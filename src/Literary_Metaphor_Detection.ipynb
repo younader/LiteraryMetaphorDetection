{
  "nbformat": 4,
  "nbformat_minor": 2,
  "metadata": {
    "colab": {
      "name": "Literary Metaphor Detection.ipynb",
      "provenance": [],
      "collapsed_sections": [],
      "machine_shape": "hm"
    },
    "kernelspec": {
      "display_name": "Python 3",
      "name": "python3"
    },
    "language_info": {
      "name": "python"
    },
    "widgets": {
      "application/vnd.jupyter.widget-state+json": {
        "b44f7f57f85646c1a0b819b2fda63598": {
          "model_module": "@jupyter-widgets/controls",
          "model_name": "HBoxModel",
          "model_module_version": "1.5.0",
          "state": {
            "_view_name": "HBoxView",
            "_dom_classes": [],
            "_model_name": "HBoxModel",
            "_view_module": "@jupyter-widgets/controls",
            "_model_module_version": "1.5.0",
            "_view_count": null,
            "_view_module_version": "1.5.0",
            "box_style": "",
            "layout": "IPY_MODEL_2a7c591146f54fdaafeaebcc553be0fe",
            "_model_module": "@jupyter-widgets/controls",
            "children": [
              "IPY_MODEL_1fa30cd8cbeb48e48f9b7362a8c80ff2",
              "IPY_MODEL_62f7bf0bcd2c4c7ca80993d86881a5f9",
              "IPY_MODEL_d702044b49354f43b782de5f32b72826"
            ]
          }
        },
        "2a7c591146f54fdaafeaebcc553be0fe": {
          "model_module": "@jupyter-widgets/base",
          "model_name": "LayoutModel",
          "model_module_version": "1.2.0",
          "state": {
            "_view_name": "LayoutView",
            "grid_template_rows": null,
            "right": null,
            "justify_content": null,
            "_view_module": "@jupyter-widgets/base",
            "overflow": null,
            "_model_module_version": "1.2.0",
            "_view_count": null,
            "flex_flow": null,
            "width": null,
            "min_width": null,
            "border": null,
            "align_items": null,
            "bottom": null,
            "_model_module": "@jupyter-widgets/base",
            "top": null,
            "grid_column": null,
            "overflow_y": null,
            "overflow_x": null,
            "grid_auto_flow": null,
            "grid_area": null,
            "grid_template_columns": null,
            "flex": null,
            "_model_name": "LayoutModel",
            "justify_items": null,
            "grid_row": null,
            "max_height": null,
            "align_content": null,
            "visibility": null,
            "align_self": null,
            "height": null,
            "min_height": null,
            "padding": null,
            "grid_auto_rows": null,
            "grid_gap": null,
            "max_width": null,
            "order": null,
            "_view_module_version": "1.2.0",
            "grid_template_areas": null,
            "object_position": null,
            "object_fit": null,
            "grid_auto_columns": null,
            "margin": null,
            "display": null,
            "left": null
          }
        },
        "1fa30cd8cbeb48e48f9b7362a8c80ff2": {
          "model_module": "@jupyter-widgets/controls",
          "model_name": "HTMLModel",
          "model_module_version": "1.5.0",
          "state": {
            "_view_name": "HTMLView",
            "style": "IPY_MODEL_33ad2a4bad3a4110854d478db82c1a2d",
            "_dom_classes": [],
            "description": "",
            "_model_name": "HTMLModel",
            "placeholder": "​",
            "_view_module": "@jupyter-widgets/controls",
            "_model_module_version": "1.5.0",
            "value": "",
            "_view_count": null,
            "_view_module_version": "1.5.0",
            "description_tooltip": null,
            "_model_module": "@jupyter-widgets/controls",
            "layout": "IPY_MODEL_eb7b6769afe44542ad84aa596d755462"
          }
        },
        "62f7bf0bcd2c4c7ca80993d86881a5f9": {
          "model_module": "@jupyter-widgets/controls",
          "model_name": "FloatProgressModel",
          "model_module_version": "1.5.0",
          "state": {
            "_view_name": "ProgressView",
            "style": "IPY_MODEL_84966c09019c43b78ef009810eda738a",
            "_dom_classes": [],
            "description": "",
            "_model_name": "FloatProgressModel",
            "bar_style": "success",
            "max": 1,
            "_view_module": "@jupyter-widgets/controls",
            "_model_module_version": "1.5.0",
            "value": 1,
            "_view_count": null,
            "_view_module_version": "1.5.0",
            "orientation": "horizontal",
            "min": 0,
            "description_tooltip": null,
            "_model_module": "@jupyter-widgets/controls",
            "layout": "IPY_MODEL_c4f6ec09eca141708a2d8ed30c9ee08d"
          }
        },
        "d702044b49354f43b782de5f32b72826": {
          "model_module": "@jupyter-widgets/controls",
          "model_name": "HTMLModel",
          "model_module_version": "1.5.0",
          "state": {
            "_view_name": "HTMLView",
            "style": "IPY_MODEL_e2c3c0ffad1c4bb6ae02c174caf3a56c",
            "_dom_classes": [],
            "description": "",
            "_model_name": "HTMLModel",
            "placeholder": "​",
            "_view_module": "@jupyter-widgets/controls",
            "_model_module_version": "1.5.0",
            "value": " 2/? [06:26&lt;00:00, 193.37s/it]",
            "_view_count": null,
            "_view_module_version": "1.5.0",
            "description_tooltip": null,
            "_model_module": "@jupyter-widgets/controls",
            "layout": "IPY_MODEL_9e899ad616604372b3b7d34a9e88aaa4"
          }
        },
        "33ad2a4bad3a4110854d478db82c1a2d": {
          "model_module": "@jupyter-widgets/controls",
          "model_name": "DescriptionStyleModel",
          "model_module_version": "1.5.0",
          "state": {
            "_view_name": "StyleView",
            "_model_name": "DescriptionStyleModel",
            "description_width": "",
            "_view_module": "@jupyter-widgets/base",
            "_model_module_version": "1.5.0",
            "_view_count": null,
            "_view_module_version": "1.2.0",
            "_model_module": "@jupyter-widgets/controls"
          }
        },
        "eb7b6769afe44542ad84aa596d755462": {
          "model_module": "@jupyter-widgets/base",
          "model_name": "LayoutModel",
          "model_module_version": "1.2.0",
          "state": {
            "_view_name": "LayoutView",
            "grid_template_rows": null,
            "right": null,
            "justify_content": null,
            "_view_module": "@jupyter-widgets/base",
            "overflow": null,
            "_model_module_version": "1.2.0",
            "_view_count": null,
            "flex_flow": null,
            "width": null,
            "min_width": null,
            "border": null,
            "align_items": null,
            "bottom": null,
            "_model_module": "@jupyter-widgets/base",
            "top": null,
            "grid_column": null,
            "overflow_y": null,
            "overflow_x": null,
            "grid_auto_flow": null,
            "grid_area": null,
            "grid_template_columns": null,
            "flex": null,
            "_model_name": "LayoutModel",
            "justify_items": null,
            "grid_row": null,
            "max_height": null,
            "align_content": null,
            "visibility": null,
            "align_self": null,
            "height": null,
            "min_height": null,
            "padding": null,
            "grid_auto_rows": null,
            "grid_gap": null,
            "max_width": null,
            "order": null,
            "_view_module_version": "1.2.0",
            "grid_template_areas": null,
            "object_position": null,
            "object_fit": null,
            "grid_auto_columns": null,
            "margin": null,
            "display": null,
            "left": null
          }
        },
        "84966c09019c43b78ef009810eda738a": {
          "model_module": "@jupyter-widgets/controls",
          "model_name": "ProgressStyleModel",
          "model_module_version": "1.5.0",
          "state": {
            "_view_name": "StyleView",
            "_model_name": "ProgressStyleModel",
            "description_width": "",
            "_view_module": "@jupyter-widgets/base",
            "_model_module_version": "1.5.0",
            "_view_count": null,
            "_view_module_version": "1.2.0",
            "bar_color": null,
            "_model_module": "@jupyter-widgets/controls"
          }
        },
        "c4f6ec09eca141708a2d8ed30c9ee08d": {
          "model_module": "@jupyter-widgets/base",
          "model_name": "LayoutModel",
          "model_module_version": "1.2.0",
          "state": {
            "_view_name": "LayoutView",
            "grid_template_rows": null,
            "right": null,
            "justify_content": null,
            "_view_module": "@jupyter-widgets/base",
            "overflow": null,
            "_model_module_version": "1.2.0",
            "_view_count": null,
            "flex_flow": null,
            "width": "20px",
            "min_width": null,
            "border": null,
            "align_items": null,
            "bottom": null,
            "_model_module": "@jupyter-widgets/base",
            "top": null,
            "grid_column": null,
            "overflow_y": null,
            "overflow_x": null,
            "grid_auto_flow": null,
            "grid_area": null,
            "grid_template_columns": null,
            "flex": null,
            "_model_name": "LayoutModel",
            "justify_items": null,
            "grid_row": null,
            "max_height": null,
            "align_content": null,
            "visibility": null,
            "align_self": null,
            "height": null,
            "min_height": null,
            "padding": null,
            "grid_auto_rows": null,
            "grid_gap": null,
            "max_width": null,
            "order": null,
            "_view_module_version": "1.2.0",
            "grid_template_areas": null,
            "object_position": null,
            "object_fit": null,
            "grid_auto_columns": null,
            "margin": null,
            "display": null,
            "left": null
          }
        },
        "e2c3c0ffad1c4bb6ae02c174caf3a56c": {
          "model_module": "@jupyter-widgets/controls",
          "model_name": "DescriptionStyleModel",
          "model_module_version": "1.5.0",
          "state": {
            "_view_name": "StyleView",
            "_model_name": "DescriptionStyleModel",
            "description_width": "",
            "_view_module": "@jupyter-widgets/base",
            "_model_module_version": "1.5.0",
            "_view_count": null,
            "_view_module_version": "1.2.0",
            "_model_module": "@jupyter-widgets/controls"
          }
        },
        "9e899ad616604372b3b7d34a9e88aaa4": {
          "model_module": "@jupyter-widgets/base",
          "model_name": "LayoutModel",
          "model_module_version": "1.2.0",
          "state": {
            "_view_name": "LayoutView",
            "grid_template_rows": null,
            "right": null,
            "justify_content": null,
            "_view_module": "@jupyter-widgets/base",
            "overflow": null,
            "_model_module_version": "1.2.0",
            "_view_count": null,
            "flex_flow": null,
            "width": null,
            "min_width": null,
            "border": null,
            "align_items": null,
            "bottom": null,
            "_model_module": "@jupyter-widgets/base",
            "top": null,
            "grid_column": null,
            "overflow_y": null,
            "overflow_x": null,
            "grid_auto_flow": null,
            "grid_area": null,
            "grid_template_columns": null,
            "flex": null,
            "_model_name": "LayoutModel",
            "justify_items": null,
            "grid_row": null,
            "max_height": null,
            "align_content": null,
            "visibility": null,
            "align_self": null,
            "height": null,
            "min_height": null,
            "padding": null,
            "grid_auto_rows": null,
            "grid_gap": null,
            "max_width": null,
            "order": null,
            "_view_module_version": "1.2.0",
            "grid_template_areas": null,
            "object_position": null,
            "object_fit": null,
            "grid_auto_columns": null,
            "margin": null,
            "display": null,
            "left": null
          }
        },
        "b4bc35725eb940c4a76177545dcbcaec": {
          "model_module": "@jupyter-widgets/controls",
          "model_name": "HBoxModel",
          "model_module_version": "1.5.0",
          "state": {
            "_view_name": "HBoxView",
            "_dom_classes": [],
            "_model_name": "HBoxModel",
            "_view_module": "@jupyter-widgets/controls",
            "_model_module_version": "1.5.0",
            "_view_count": null,
            "_view_module_version": "1.5.0",
            "box_style": "",
            "layout": "IPY_MODEL_fa7824ee3ab0405c8e17929d37b0a16b",
            "_model_module": "@jupyter-widgets/controls",
            "children": [
              "IPY_MODEL_858e5fae0af44302b17dd4eb60ea5be0",
              "IPY_MODEL_2c92f8cc70a047aca44f09b3e27a55ef",
              "IPY_MODEL_f15edaccea78423eac1ede72306abca0"
            ]
          }
        },
        "fa7824ee3ab0405c8e17929d37b0a16b": {
          "model_module": "@jupyter-widgets/base",
          "model_name": "LayoutModel",
          "model_module_version": "1.2.0",
          "state": {
            "_view_name": "LayoutView",
            "grid_template_rows": null,
            "right": null,
            "justify_content": null,
            "_view_module": "@jupyter-widgets/base",
            "overflow": null,
            "_model_module_version": "1.2.0",
            "_view_count": null,
            "flex_flow": null,
            "width": null,
            "min_width": null,
            "border": null,
            "align_items": null,
            "bottom": null,
            "_model_module": "@jupyter-widgets/base",
            "top": null,
            "grid_column": null,
            "overflow_y": null,
            "overflow_x": null,
            "grid_auto_flow": null,
            "grid_area": null,
            "grid_template_columns": null,
            "flex": null,
            "_model_name": "LayoutModel",
            "justify_items": null,
            "grid_row": null,
            "max_height": null,
            "align_content": null,
            "visibility": null,
            "align_self": null,
            "height": null,
            "min_height": null,
            "padding": null,
            "grid_auto_rows": null,
            "grid_gap": null,
            "max_width": null,
            "order": null,
            "_view_module_version": "1.2.0",
            "grid_template_areas": null,
            "object_position": null,
            "object_fit": null,
            "grid_auto_columns": null,
            "margin": null,
            "display": null,
            "left": null
          }
        },
        "858e5fae0af44302b17dd4eb60ea5be0": {
          "model_module": "@jupyter-widgets/controls",
          "model_name": "HTMLModel",
          "model_module_version": "1.5.0",
          "state": {
            "_view_name": "HTMLView",
            "style": "IPY_MODEL_8bf96630a084483d911824b527cb9f68",
            "_dom_classes": [],
            "description": "",
            "_model_name": "HTMLModel",
            "placeholder": "​",
            "_view_module": "@jupyter-widgets/controls",
            "_model_module_version": "1.5.0",
            "value": "",
            "_view_count": null,
            "_view_module_version": "1.5.0",
            "description_tooltip": null,
            "_model_module": "@jupyter-widgets/controls",
            "layout": "IPY_MODEL_ccf3085df0f84d438b1cc1a5ee0b0417"
          }
        },
        "2c92f8cc70a047aca44f09b3e27a55ef": {
          "model_module": "@jupyter-widgets/controls",
          "model_name": "FloatProgressModel",
          "model_module_version": "1.5.0",
          "state": {
            "_view_name": "ProgressView",
            "style": "IPY_MODEL_c35a4c41d82f4d70a8ee7ee83cfc608e",
            "_dom_classes": [],
            "description": "",
            "_model_name": "FloatProgressModel",
            "bar_style": "success",
            "max": 1,
            "_view_module": "@jupyter-widgets/controls",
            "_model_module_version": "1.5.0",
            "value": 1,
            "_view_count": null,
            "_view_module_version": "1.5.0",
            "orientation": "horizontal",
            "min": 0,
            "description_tooltip": null,
            "_model_module": "@jupyter-widgets/controls",
            "layout": "IPY_MODEL_adc5a5abdf0c44a0ad4106a5e97d1262"
          }
        },
        "f15edaccea78423eac1ede72306abca0": {
          "model_module": "@jupyter-widgets/controls",
          "model_name": "HTMLModel",
          "model_module_version": "1.5.0",
          "state": {
            "_view_name": "HTMLView",
            "style": "IPY_MODEL_627f033bb55541938ef98ead724b8996",
            "_dom_classes": [],
            "description": "",
            "_model_name": "HTMLModel",
            "placeholder": "​",
            "_view_module": "@jupyter-widgets/controls",
            "_model_module_version": "1.5.0",
            "value": " 10/? [21:22&lt;00:00, 128.05s/it]",
            "_view_count": null,
            "_view_module_version": "1.5.0",
            "description_tooltip": null,
            "_model_module": "@jupyter-widgets/controls",
            "layout": "IPY_MODEL_80d0c5749c3e41299b4ad18f1d74fd72"
          }
        },
        "8bf96630a084483d911824b527cb9f68": {
          "model_module": "@jupyter-widgets/controls",
          "model_name": "DescriptionStyleModel",
          "model_module_version": "1.5.0",
          "state": {
            "_view_name": "StyleView",
            "_model_name": "DescriptionStyleModel",
            "description_width": "",
            "_view_module": "@jupyter-widgets/base",
            "_model_module_version": "1.5.0",
            "_view_count": null,
            "_view_module_version": "1.2.0",
            "_model_module": "@jupyter-widgets/controls"
          }
        },
        "ccf3085df0f84d438b1cc1a5ee0b0417": {
          "model_module": "@jupyter-widgets/base",
          "model_name": "LayoutModel",
          "model_module_version": "1.2.0",
          "state": {
            "_view_name": "LayoutView",
            "grid_template_rows": null,
            "right": null,
            "justify_content": null,
            "_view_module": "@jupyter-widgets/base",
            "overflow": null,
            "_model_module_version": "1.2.0",
            "_view_count": null,
            "flex_flow": null,
            "width": null,
            "min_width": null,
            "border": null,
            "align_items": null,
            "bottom": null,
            "_model_module": "@jupyter-widgets/base",
            "top": null,
            "grid_column": null,
            "overflow_y": null,
            "overflow_x": null,
            "grid_auto_flow": null,
            "grid_area": null,
            "grid_template_columns": null,
            "flex": null,
            "_model_name": "LayoutModel",
            "justify_items": null,
            "grid_row": null,
            "max_height": null,
            "align_content": null,
            "visibility": null,
            "align_self": null,
            "height": null,
            "min_height": null,
            "padding": null,
            "grid_auto_rows": null,
            "grid_gap": null,
            "max_width": null,
            "order": null,
            "_view_module_version": "1.2.0",
            "grid_template_areas": null,
            "object_position": null,
            "object_fit": null,
            "grid_auto_columns": null,
            "margin": null,
            "display": null,
            "left": null
          }
        },
        "c35a4c41d82f4d70a8ee7ee83cfc608e": {
          "model_module": "@jupyter-widgets/controls",
          "model_name": "ProgressStyleModel",
          "model_module_version": "1.5.0",
          "state": {
            "_view_name": "StyleView",
            "_model_name": "ProgressStyleModel",
            "description_width": "",
            "_view_module": "@jupyter-widgets/base",
            "_model_module_version": "1.5.0",
            "_view_count": null,
            "_view_module_version": "1.2.0",
            "bar_color": null,
            "_model_module": "@jupyter-widgets/controls"
          }
        },
        "adc5a5abdf0c44a0ad4106a5e97d1262": {
          "model_module": "@jupyter-widgets/base",
          "model_name": "LayoutModel",
          "model_module_version": "1.2.0",
          "state": {
            "_view_name": "LayoutView",
            "grid_template_rows": null,
            "right": null,
            "justify_content": null,
            "_view_module": "@jupyter-widgets/base",
            "overflow": null,
            "_model_module_version": "1.2.0",
            "_view_count": null,
            "flex_flow": null,
            "width": "20px",
            "min_width": null,
            "border": null,
            "align_items": null,
            "bottom": null,
            "_model_module": "@jupyter-widgets/base",
            "top": null,
            "grid_column": null,
            "overflow_y": null,
            "overflow_x": null,
            "grid_auto_flow": null,
            "grid_area": null,
            "grid_template_columns": null,
            "flex": null,
            "_model_name": "LayoutModel",
            "justify_items": null,
            "grid_row": null,
            "max_height": null,
            "align_content": null,
            "visibility": null,
            "align_self": null,
            "height": null,
            "min_height": null,
            "padding": null,
            "grid_auto_rows": null,
            "grid_gap": null,
            "max_width": null,
            "order": null,
            "_view_module_version": "1.2.0",
            "grid_template_areas": null,
            "object_position": null,
            "object_fit": null,
            "grid_auto_columns": null,
            "margin": null,
            "display": null,
            "left": null
          }
        },
        "627f033bb55541938ef98ead724b8996": {
          "model_module": "@jupyter-widgets/controls",
          "model_name": "DescriptionStyleModel",
          "model_module_version": "1.5.0",
          "state": {
            "_view_name": "StyleView",
            "_model_name": "DescriptionStyleModel",
            "description_width": "",
            "_view_module": "@jupyter-widgets/base",
            "_model_module_version": "1.5.0",
            "_view_count": null,
            "_view_module_version": "1.2.0",
            "_model_module": "@jupyter-widgets/controls"
          }
        },
        "80d0c5749c3e41299b4ad18f1d74fd72": {
          "model_module": "@jupyter-widgets/base",
          "model_name": "LayoutModel",
          "model_module_version": "1.2.0",
          "state": {
            "_view_name": "LayoutView",
            "grid_template_rows": null,
            "right": null,
            "justify_content": null,
            "_view_module": "@jupyter-widgets/base",
            "overflow": null,
            "_model_module_version": "1.2.0",
            "_view_count": null,
            "flex_flow": null,
            "width": null,
            "min_width": null,
            "border": null,
            "align_items": null,
            "bottom": null,
            "_model_module": "@jupyter-widgets/base",
            "top": null,
            "grid_column": null,
            "overflow_y": null,
            "overflow_x": null,
            "grid_auto_flow": null,
            "grid_area": null,
            "grid_template_columns": null,
            "flex": null,
            "_model_name": "LayoutModel",
            "justify_items": null,
            "grid_row": null,
            "max_height": null,
            "align_content": null,
            "visibility": null,
            "align_self": null,
            "height": null,
            "min_height": null,
            "padding": null,
            "grid_auto_rows": null,
            "grid_gap": null,
            "max_width": null,
            "order": null,
            "_view_module_version": "1.2.0",
            "grid_template_areas": null,
            "object_position": null,
            "object_fit": null,
            "grid_auto_columns": null,
            "margin": null,
            "display": null,
            "left": null
          }
        },
        "4d3bf43208fd43e68011449a354747c9": {
          "model_module": "@jupyter-widgets/controls",
          "model_name": "HBoxModel",
          "model_module_version": "1.5.0",
          "state": {
            "_view_name": "HBoxView",
            "_dom_classes": [],
            "_model_name": "HBoxModel",
            "_view_module": "@jupyter-widgets/controls",
            "_model_module_version": "1.5.0",
            "_view_count": null,
            "_view_module_version": "1.5.0",
            "box_style": "",
            "layout": "IPY_MODEL_cdaeec99b8f248bb9a182d406b6a2535",
            "_model_module": "@jupyter-widgets/controls",
            "children": [
              "IPY_MODEL_a4b0a81e7bfa48659289932fddb883fd",
              "IPY_MODEL_af3d455709cf4a8a9aa33f19d3858126",
              "IPY_MODEL_26242e1bb10c46b0911c93c4d5bec937"
            ]
          }
        },
        "cdaeec99b8f248bb9a182d406b6a2535": {
          "model_module": "@jupyter-widgets/base",
          "model_name": "LayoutModel",
          "model_module_version": "1.2.0",
          "state": {
            "_view_name": "LayoutView",
            "grid_template_rows": null,
            "right": null,
            "justify_content": null,
            "_view_module": "@jupyter-widgets/base",
            "overflow": null,
            "_model_module_version": "1.2.0",
            "_view_count": null,
            "flex_flow": null,
            "width": null,
            "min_width": null,
            "border": null,
            "align_items": null,
            "bottom": null,
            "_model_module": "@jupyter-widgets/base",
            "top": null,
            "grid_column": null,
            "overflow_y": null,
            "overflow_x": null,
            "grid_auto_flow": null,
            "grid_area": null,
            "grid_template_columns": null,
            "flex": null,
            "_model_name": "LayoutModel",
            "justify_items": null,
            "grid_row": null,
            "max_height": null,
            "align_content": null,
            "visibility": null,
            "align_self": null,
            "height": null,
            "min_height": null,
            "padding": null,
            "grid_auto_rows": null,
            "grid_gap": null,
            "max_width": null,
            "order": null,
            "_view_module_version": "1.2.0",
            "grid_template_areas": null,
            "object_position": null,
            "object_fit": null,
            "grid_auto_columns": null,
            "margin": null,
            "display": null,
            "left": null
          }
        },
        "a4b0a81e7bfa48659289932fddb883fd": {
          "model_module": "@jupyter-widgets/controls",
          "model_name": "HTMLModel",
          "model_module_version": "1.5.0",
          "state": {
            "_view_name": "HTMLView",
            "style": "IPY_MODEL_8e4e96cb7e984cf2be21b4e9bae0ac77",
            "_dom_classes": [],
            "description": "",
            "_model_name": "HTMLModel",
            "placeholder": "​",
            "_view_module": "@jupyter-widgets/controls",
            "_model_module_version": "1.5.0",
            "value": "",
            "_view_count": null,
            "_view_module_version": "1.5.0",
            "description_tooltip": null,
            "_model_module": "@jupyter-widgets/controls",
            "layout": "IPY_MODEL_43a10aef334f48a08c7005a379345b80"
          }
        },
        "af3d455709cf4a8a9aa33f19d3858126": {
          "model_module": "@jupyter-widgets/controls",
          "model_name": "FloatProgressModel",
          "model_module_version": "1.5.0",
          "state": {
            "_view_name": "ProgressView",
            "style": "IPY_MODEL_8232b11bdfda46418ea6e33a51c04109",
            "_dom_classes": [],
            "description": "",
            "_model_name": "FloatProgressModel",
            "bar_style": "success",
            "max": 1,
            "_view_module": "@jupyter-widgets/controls",
            "_model_module_version": "1.5.0",
            "value": 1,
            "_view_count": null,
            "_view_module_version": "1.5.0",
            "orientation": "horizontal",
            "min": 0,
            "description_tooltip": null,
            "_model_module": "@jupyter-widgets/controls",
            "layout": "IPY_MODEL_9e9d08cf47d348708b1e7d7ddec6962f"
          }
        },
        "26242e1bb10c46b0911c93c4d5bec937": {
          "model_module": "@jupyter-widgets/controls",
          "model_name": "HTMLModel",
          "model_module_version": "1.5.0",
          "state": {
            "_view_name": "HTMLView",
            "style": "IPY_MODEL_245b192ad00a4eff9298510383a8310d",
            "_dom_classes": [],
            "description": "",
            "_model_name": "HTMLModel",
            "placeholder": "​",
            "_view_module": "@jupyter-widgets/controls",
            "_model_module_version": "1.5.0",
            "value": " 10/? [00:52&lt;00:00,  5.31s/it]",
            "_view_count": null,
            "_view_module_version": "1.5.0",
            "description_tooltip": null,
            "_model_module": "@jupyter-widgets/controls",
            "layout": "IPY_MODEL_ef2a00e5f13f4f048f236aa571dc1f73"
          }
        },
        "8e4e96cb7e984cf2be21b4e9bae0ac77": {
          "model_module": "@jupyter-widgets/controls",
          "model_name": "DescriptionStyleModel",
          "model_module_version": "1.5.0",
          "state": {
            "_view_name": "StyleView",
            "_model_name": "DescriptionStyleModel",
            "description_width": "",
            "_view_module": "@jupyter-widgets/base",
            "_model_module_version": "1.5.0",
            "_view_count": null,
            "_view_module_version": "1.2.0",
            "_model_module": "@jupyter-widgets/controls"
          }
        },
        "43a10aef334f48a08c7005a379345b80": {
          "model_module": "@jupyter-widgets/base",
          "model_name": "LayoutModel",
          "model_module_version": "1.2.0",
          "state": {
            "_view_name": "LayoutView",
            "grid_template_rows": null,
            "right": null,
            "justify_content": null,
            "_view_module": "@jupyter-widgets/base",
            "overflow": null,
            "_model_module_version": "1.2.0",
            "_view_count": null,
            "flex_flow": null,
            "width": null,
            "min_width": null,
            "border": null,
            "align_items": null,
            "bottom": null,
            "_model_module": "@jupyter-widgets/base",
            "top": null,
            "grid_column": null,
            "overflow_y": null,
            "overflow_x": null,
            "grid_auto_flow": null,
            "grid_area": null,
            "grid_template_columns": null,
            "flex": null,
            "_model_name": "LayoutModel",
            "justify_items": null,
            "grid_row": null,
            "max_height": null,
            "align_content": null,
            "visibility": null,
            "align_self": null,
            "height": null,
            "min_height": null,
            "padding": null,
            "grid_auto_rows": null,
            "grid_gap": null,
            "max_width": null,
            "order": null,
            "_view_module_version": "1.2.0",
            "grid_template_areas": null,
            "object_position": null,
            "object_fit": null,
            "grid_auto_columns": null,
            "margin": null,
            "display": null,
            "left": null
          }
        },
        "8232b11bdfda46418ea6e33a51c04109": {
          "model_module": "@jupyter-widgets/controls",
          "model_name": "ProgressStyleModel",
          "model_module_version": "1.5.0",
          "state": {
            "_view_name": "StyleView",
            "_model_name": "ProgressStyleModel",
            "description_width": "",
            "_view_module": "@jupyter-widgets/base",
            "_model_module_version": "1.5.0",
            "_view_count": null,
            "_view_module_version": "1.2.0",
            "bar_color": null,
            "_model_module": "@jupyter-widgets/controls"
          }
        },
        "9e9d08cf47d348708b1e7d7ddec6962f": {
          "model_module": "@jupyter-widgets/base",
          "model_name": "LayoutModel",
          "model_module_version": "1.2.0",
          "state": {
            "_view_name": "LayoutView",
            "grid_template_rows": null,
            "right": null,
            "justify_content": null,
            "_view_module": "@jupyter-widgets/base",
            "overflow": null,
            "_model_module_version": "1.2.0",
            "_view_count": null,
            "flex_flow": null,
            "width": "20px",
            "min_width": null,
            "border": null,
            "align_items": null,
            "bottom": null,
            "_model_module": "@jupyter-widgets/base",
            "top": null,
            "grid_column": null,
            "overflow_y": null,
            "overflow_x": null,
            "grid_auto_flow": null,
            "grid_area": null,
            "grid_template_columns": null,
            "flex": null,
            "_model_name": "LayoutModel",
            "justify_items": null,
            "grid_row": null,
            "max_height": null,
            "align_content": null,
            "visibility": null,
            "align_self": null,
            "height": null,
            "min_height": null,
            "padding": null,
            "grid_auto_rows": null,
            "grid_gap": null,
            "max_width": null,
            "order": null,
            "_view_module_version": "1.2.0",
            "grid_template_areas": null,
            "object_position": null,
            "object_fit": null,
            "grid_auto_columns": null,
            "margin": null,
            "display": null,
            "left": null
          }
        },
        "245b192ad00a4eff9298510383a8310d": {
          "model_module": "@jupyter-widgets/controls",
          "model_name": "DescriptionStyleModel",
          "model_module_version": "1.5.0",
          "state": {
            "_view_name": "StyleView",
            "_model_name": "DescriptionStyleModel",
            "description_width": "",
            "_view_module": "@jupyter-widgets/base",
            "_model_module_version": "1.5.0",
            "_view_count": null,
            "_view_module_version": "1.2.0",
            "_model_module": "@jupyter-widgets/controls"
          }
        },
        "ef2a00e5f13f4f048f236aa571dc1f73": {
          "model_module": "@jupyter-widgets/base",
          "model_name": "LayoutModel",
          "model_module_version": "1.2.0",
          "state": {
            "_view_name": "LayoutView",
            "grid_template_rows": null,
            "right": null,
            "justify_content": null,
            "_view_module": "@jupyter-widgets/base",
            "overflow": null,
            "_model_module_version": "1.2.0",
            "_view_count": null,
            "flex_flow": null,
            "width": null,
            "min_width": null,
            "border": null,
            "align_items": null,
            "bottom": null,
            "_model_module": "@jupyter-widgets/base",
            "top": null,
            "grid_column": null,
            "overflow_y": null,
            "overflow_x": null,
            "grid_auto_flow": null,
            "grid_area": null,
            "grid_template_columns": null,
            "flex": null,
            "_model_name": "LayoutModel",
            "justify_items": null,
            "grid_row": null,
            "max_height": null,
            "align_content": null,
            "visibility": null,
            "align_self": null,
            "height": null,
            "min_height": null,
            "padding": null,
            "grid_auto_rows": null,
            "grid_gap": null,
            "max_width": null,
            "order": null,
            "_view_module_version": "1.2.0",
            "grid_template_areas": null,
            "object_position": null,
            "object_fit": null,
            "grid_auto_columns": null,
            "margin": null,
            "display": null,
            "left": null
          }
        },
        "1f0368c2cd8c44ff9d9bddc7570aadd4": {
          "model_module": "@jupyter-widgets/controls",
          "model_name": "HBoxModel",
          "model_module_version": "1.5.0",
          "state": {
            "_view_name": "HBoxView",
            "_dom_classes": [],
            "_model_name": "HBoxModel",
            "_view_module": "@jupyter-widgets/controls",
            "_model_module_version": "1.5.0",
            "_view_count": null,
            "_view_module_version": "1.5.0",
            "box_style": "",
            "layout": "IPY_MODEL_d5b21102b48f42dd8553d9697d7e2deb",
            "_model_module": "@jupyter-widgets/controls",
            "children": [
              "IPY_MODEL_96c53f8df56f42ad936f4a6ae5c68466",
              "IPY_MODEL_61d593fe63104552a296e9932bac5cc5",
              "IPY_MODEL_c4eee7b6ad334924b56fdef65693fe84"
            ]
          }
        },
        "d5b21102b48f42dd8553d9697d7e2deb": {
          "model_module": "@jupyter-widgets/base",
          "model_name": "LayoutModel",
          "model_module_version": "1.2.0",
          "state": {
            "_view_name": "LayoutView",
            "grid_template_rows": null,
            "right": null,
            "justify_content": null,
            "_view_module": "@jupyter-widgets/base",
            "overflow": null,
            "_model_module_version": "1.2.0",
            "_view_count": null,
            "flex_flow": null,
            "width": null,
            "min_width": null,
            "border": null,
            "align_items": null,
            "bottom": null,
            "_model_module": "@jupyter-widgets/base",
            "top": null,
            "grid_column": null,
            "overflow_y": null,
            "overflow_x": null,
            "grid_auto_flow": null,
            "grid_area": null,
            "grid_template_columns": null,
            "flex": null,
            "_model_name": "LayoutModel",
            "justify_items": null,
            "grid_row": null,
            "max_height": null,
            "align_content": null,
            "visibility": null,
            "align_self": null,
            "height": null,
            "min_height": null,
            "padding": null,
            "grid_auto_rows": null,
            "grid_gap": null,
            "max_width": null,
            "order": null,
            "_view_module_version": "1.2.0",
            "grid_template_areas": null,
            "object_position": null,
            "object_fit": null,
            "grid_auto_columns": null,
            "margin": null,
            "display": null,
            "left": null
          }
        },
        "96c53f8df56f42ad936f4a6ae5c68466": {
          "model_module": "@jupyter-widgets/controls",
          "model_name": "HTMLModel",
          "model_module_version": "1.5.0",
          "state": {
            "_view_name": "HTMLView",
            "style": "IPY_MODEL_64b6880e3ed840f0ad6b37e3451549ea",
            "_dom_classes": [],
            "description": "",
            "_model_name": "HTMLModel",
            "placeholder": "​",
            "_view_module": "@jupyter-widgets/controls",
            "_model_module_version": "1.5.0",
            "value": "",
            "_view_count": null,
            "_view_module_version": "1.5.0",
            "description_tooltip": null,
            "_model_module": "@jupyter-widgets/controls",
            "layout": "IPY_MODEL_e1a03fda9c00498f89bda6a52a0f3947"
          }
        },
        "61d593fe63104552a296e9932bac5cc5": {
          "model_module": "@jupyter-widgets/controls",
          "model_name": "FloatProgressModel",
          "model_module_version": "1.5.0",
          "state": {
            "_view_name": "ProgressView",
            "style": "IPY_MODEL_e20dcdf6cf414d78ab46298c49607b1d",
            "_dom_classes": [],
            "description": "",
            "_model_name": "FloatProgressModel",
            "bar_style": "success",
            "max": 1,
            "_view_module": "@jupyter-widgets/controls",
            "_model_module_version": "1.5.0",
            "value": 1,
            "_view_count": null,
            "_view_module_version": "1.5.0",
            "orientation": "horizontal",
            "min": 0,
            "description_tooltip": null,
            "_model_module": "@jupyter-widgets/controls",
            "layout": "IPY_MODEL_0f3e964939de40e78b3cda675ce247af"
          }
        },
        "c4eee7b6ad334924b56fdef65693fe84": {
          "model_module": "@jupyter-widgets/controls",
          "model_name": "HTMLModel",
          "model_module_version": "1.5.0",
          "state": {
            "_view_name": "HTMLView",
            "style": "IPY_MODEL_9a33c756bbd843bda66d0da154fedc1b",
            "_dom_classes": [],
            "description": "",
            "_model_name": "HTMLModel",
            "placeholder": "​",
            "_view_module": "@jupyter-widgets/controls",
            "_model_module_version": "1.5.0",
            "value": " 10/? [00:16&lt;00:00,  1.89s/it]",
            "_view_count": null,
            "_view_module_version": "1.5.0",
            "description_tooltip": null,
            "_model_module": "@jupyter-widgets/controls",
            "layout": "IPY_MODEL_8a7f1ae76bc347a8ad70efbc5044c1fd"
          }
        },
        "64b6880e3ed840f0ad6b37e3451549ea": {
          "model_module": "@jupyter-widgets/controls",
          "model_name": "DescriptionStyleModel",
          "model_module_version": "1.5.0",
          "state": {
            "_view_name": "StyleView",
            "_model_name": "DescriptionStyleModel",
            "description_width": "",
            "_view_module": "@jupyter-widgets/base",
            "_model_module_version": "1.5.0",
            "_view_count": null,
            "_view_module_version": "1.2.0",
            "_model_module": "@jupyter-widgets/controls"
          }
        },
        "e1a03fda9c00498f89bda6a52a0f3947": {
          "model_module": "@jupyter-widgets/base",
          "model_name": "LayoutModel",
          "model_module_version": "1.2.0",
          "state": {
            "_view_name": "LayoutView",
            "grid_template_rows": null,
            "right": null,
            "justify_content": null,
            "_view_module": "@jupyter-widgets/base",
            "overflow": null,
            "_model_module_version": "1.2.0",
            "_view_count": null,
            "flex_flow": null,
            "width": null,
            "min_width": null,
            "border": null,
            "align_items": null,
            "bottom": null,
            "_model_module": "@jupyter-widgets/base",
            "top": null,
            "grid_column": null,
            "overflow_y": null,
            "overflow_x": null,
            "grid_auto_flow": null,
            "grid_area": null,
            "grid_template_columns": null,
            "flex": null,
            "_model_name": "LayoutModel",
            "justify_items": null,
            "grid_row": null,
            "max_height": null,
            "align_content": null,
            "visibility": null,
            "align_self": null,
            "height": null,
            "min_height": null,
            "padding": null,
            "grid_auto_rows": null,
            "grid_gap": null,
            "max_width": null,
            "order": null,
            "_view_module_version": "1.2.0",
            "grid_template_areas": null,
            "object_position": null,
            "object_fit": null,
            "grid_auto_columns": null,
            "margin": null,
            "display": null,
            "left": null
          }
        },
        "e20dcdf6cf414d78ab46298c49607b1d": {
          "model_module": "@jupyter-widgets/controls",
          "model_name": "ProgressStyleModel",
          "model_module_version": "1.5.0",
          "state": {
            "_view_name": "StyleView",
            "_model_name": "ProgressStyleModel",
            "description_width": "",
            "_view_module": "@jupyter-widgets/base",
            "_model_module_version": "1.5.0",
            "_view_count": null,
            "_view_module_version": "1.2.0",
            "bar_color": null,
            "_model_module": "@jupyter-widgets/controls"
          }
        },
        "0f3e964939de40e78b3cda675ce247af": {
          "model_module": "@jupyter-widgets/base",
          "model_name": "LayoutModel",
          "model_module_version": "1.2.0",
          "state": {
            "_view_name": "LayoutView",
            "grid_template_rows": null,
            "right": null,
            "justify_content": null,
            "_view_module": "@jupyter-widgets/base",
            "overflow": null,
            "_model_module_version": "1.2.0",
            "_view_count": null,
            "flex_flow": null,
            "width": "20px",
            "min_width": null,
            "border": null,
            "align_items": null,
            "bottom": null,
            "_model_module": "@jupyter-widgets/base",
            "top": null,
            "grid_column": null,
            "overflow_y": null,
            "overflow_x": null,
            "grid_auto_flow": null,
            "grid_area": null,
            "grid_template_columns": null,
            "flex": null,
            "_model_name": "LayoutModel",
            "justify_items": null,
            "grid_row": null,
            "max_height": null,
            "align_content": null,
            "visibility": null,
            "align_self": null,
            "height": null,
            "min_height": null,
            "padding": null,
            "grid_auto_rows": null,
            "grid_gap": null,
            "max_width": null,
            "order": null,
            "_view_module_version": "1.2.0",
            "grid_template_areas": null,
            "object_position": null,
            "object_fit": null,
            "grid_auto_columns": null,
            "margin": null,
            "display": null,
            "left": null
          }
        },
        "9a33c756bbd843bda66d0da154fedc1b": {
          "model_module": "@jupyter-widgets/controls",
          "model_name": "DescriptionStyleModel",
          "model_module_version": "1.5.0",
          "state": {
            "_view_name": "StyleView",
            "_model_name": "DescriptionStyleModel",
            "description_width": "",
            "_view_module": "@jupyter-widgets/base",
            "_model_module_version": "1.5.0",
            "_view_count": null,
            "_view_module_version": "1.2.0",
            "_model_module": "@jupyter-widgets/controls"
          }
        },
        "8a7f1ae76bc347a8ad70efbc5044c1fd": {
          "model_module": "@jupyter-widgets/base",
          "model_name": "LayoutModel",
          "model_module_version": "1.2.0",
          "state": {
            "_view_name": "LayoutView",
            "grid_template_rows": null,
            "right": null,
            "justify_content": null,
            "_view_module": "@jupyter-widgets/base",
            "overflow": null,
            "_model_module_version": "1.2.0",
            "_view_count": null,
            "flex_flow": null,
            "width": null,
            "min_width": null,
            "border": null,
            "align_items": null,
            "bottom": null,
            "_model_module": "@jupyter-widgets/base",
            "top": null,
            "grid_column": null,
            "overflow_y": null,
            "overflow_x": null,
            "grid_auto_flow": null,
            "grid_area": null,
            "grid_template_columns": null,
            "flex": null,
            "_model_name": "LayoutModel",
            "justify_items": null,
            "grid_row": null,
            "max_height": null,
            "align_content": null,
            "visibility": null,
            "align_self": null,
            "height": null,
            "min_height": null,
            "padding": null,
            "grid_auto_rows": null,
            "grid_gap": null,
            "max_width": null,
            "order": null,
            "_view_module_version": "1.2.0",
            "grid_template_areas": null,
            "object_position": null,
            "object_fit": null,
            "grid_auto_columns": null,
            "margin": null,
            "display": null,
            "left": null
          }
        }
      }
    },
    "accelerator": "GPU"
  },
  "cells": [
    {
      "cell_type": "markdown",
      "source": [
        "# Setup and Imports\n",
        "We will download the necessary libraries and embedding models "
      ],
      "metadata": {
        "id": "7AdJo7mYXw68"
      }
    },
    {
      "cell_type": "code",
      "execution_count": null,
      "source": [
        "!pip install ratelimit\n",
        "!pip install flair\n",
        "!pip install transformers\n",
        "!pip install rgf_python\n",
        "!pip install textstat\n",
        "!pip install pytorch-tabnet\n",
        "!pip install shap\n",
        "!python -m spacy download en_core_web_lg\n",
        "!wget https://conceptnet.s3.amazonaws.com/downloads/2019/numberbatch/numberbatch-en-19.08.txt.gz\n",
        "!gzip -d ./numberbatch-en-19.08.txt.gz\n",
        "!wget https://www.dropbox.com/s/1m0ofr06zy0nnbm/gpt2glecmed.zip?dl=0\n",
        "!unzip gpt2glecmed.zip\\?dl\\=0"
      ],
      "outputs": [],
      "metadata": {
        "id": "KXxJYKamcB3-"
      }
    },
    {
      "cell_type": "code",
      "execution_count": 2,
      "source": [
        "import pandas as pd\n",
        "import numpy as np\n",
        "import regex as re\n",
        "import requests\n",
        "from nltk.corpus import wordnet as wn\n",
        "import nltk\n",
        "from nltk.stem import SnowballStemmer\n",
        "from tqdm.notebook import tqdm\n",
        "import spacy\n",
        "import en_core_web_lg\n",
        "import gensim.downloader\n",
        "from flair.embeddings import TransformerDocumentEmbeddings\n",
        "from flair.data import Sentence\n",
        "from scipy import spatial\n",
        "from json import JSONDecodeError   \n",
        "from sklearn.metrics.pairwise import cosine_similarity\n",
        "from sklearn.decomposition import PCA\n",
        "from ratelimit import limits, sleep_and_retry\n",
        "from flair.embeddings import TransformerWordEmbeddings,TransformerDocumentEmbeddings,WordEmbeddings,FlairEmbeddings\n",
        "from flair.data import Sentence\n",
        "\n",
        "nlp =en_core_web_lg.load()\n",
        "stemmer = nltk.stem.SnowballStemmer('english')\n",
        "nltk.download('wordnet')"
      ],
      "outputs": [
        {
          "output_type": "stream",
          "name": "stdout",
          "text": [
            "[nltk_data] Downloading package wordnet to /root/nltk_data...\n",
            "[nltk_data]   Unzipping corpora/wordnet.zip.\n"
          ]
        },
        {
          "output_type": "execute_result",
          "data": {
            "text/plain": [
              "True"
            ]
          },
          "metadata": {},
          "execution_count": 2
        }
      ],
      "metadata": {
        "id": "voJ3xqU9XX-3",
        "colab": {
          "base_uri": "https://localhost:8080/"
        },
        "outputId": "e27457d7-7b1a-4874-dd0e-487a1b3e1f58"
      }
    },
    {
      "cell_type": "markdown",
      "source": [
        "## Read and Preprocess the corpus"
      ],
      "metadata": {
        "id": "ivCDo35h26rh"
      }
    },
    {
      "cell_type": "code",
      "execution_count": null,
      "source": [
        "from preprocess import read_text,preprocess_column\n",
        "df=read_text('./464katz_mets_nader.txt')\n",
        "df.label=df.label.astype(int)\n",
        "df['processed_metaphor']=preprocess_column(df.M.values)"
      ],
      "outputs": [],
      "metadata": {
        "id": "nV9g-ZxN9lzm"
      }
    },
    {
      "cell_type": "markdown",
      "source": [
        "# Document based features"
      ],
      "metadata": {
        "id": "o88frEg7OulK"
      }
    },
    {
      "cell_type": "markdown",
      "source": [
        "In this section, we're going to use an ensemble of transformer based document embedding to embed the metaphors, then use the concatenated vector to predict the binary target (literary/non-literary)  \n",
        "The ensemble uses transformers fine tuned on different applications, this includes: part-of-speech tagging, language modeling and sentiment classifiaction. The intuition behind this is that finetuned transformers on different task would encompass different semantic features of the metaphors. "
      ],
      "metadata": {
        "id": "pZmC3u2xjp7L"
      }
    },
    {
      "cell_type": "code",
      "execution_count": null,
      "source": [
        "from flair.embeddings import TransformerDocumentEmbeddings\n",
        "from flair.data import Sentence\n",
        "# compute the embeddings for each model and stack them together\n",
        "docs_e=[]\n",
        "models=['vblagoje/bert-english-uncased-finetuned-pos','gpt2-xl','facebook/bart-large-cnn','bhadresh-savani/distilbert-base-uncased-emotion']\n",
        "lengths=[]\n",
        "for model in models:\n",
        "  doc_embedding = TransformerDocumentEmbeddings(model)\n",
        "  #store the embedding length for later usage\n",
        "  lengths.append(doc_embedding.embedding_length)\n",
        "  doc_e=[]\n",
        "  for d in tqdm(df.M):\n",
        "    sent=Sentence(d)\n",
        "    doc_embedding.embed(sent)\n",
        "    doc_e.append(sent.embedding.detach().cpu().numpy())\n",
        "  docs_e.append(doc_e)\n",
        "stacked_embeddings=docs_e[0]\n",
        "for d in docs_e[1:]:\n",
        "  stacked_embeddings=np.concatenate((stacked_embeddings,d),axis=1)"
      ],
      "outputs": [],
      "metadata": {
        "id": "TzmA0GiN07Kl"
      }
    },
    {
      "cell_type": "code",
      "execution_count": 94,
      "source": [
        "X=np.array(stacked_embeddings)\n",
        "y=df.label.values"
      ],
      "outputs": [],
      "metadata": {
        "id": "FDgXSl1j6pDp"
      }
    },
    {
      "cell_type": "code",
      "execution_count": 95,
      "source": [
        "from utils import plot_auc_cv\n",
        "plot_auc_cv(LogisticRegressionCV(max_iter=2000),X,y)"
      ],
      "outputs": [
        {
          "output_type": "display_data",
          "data": {
            "text/plain": [
              "<Figure size 576x576 with 1 Axes>"
            ],
            "image/png": "[encoded data removed]"
          },
          "metadata": {
            "needs_background": "light"
          }
        }
      ],
      "metadata": {
        "colab": {
          "base_uri": "https://localhost:8080/",
          "height": 513
        },
        "id": "qxU9UM76Dci0",
        "outputId": "e3646167-3178-45c7-aebe-461fdf2e3b53"
      }
    },
    {
      "cell_type": "code",
      "execution_count": 101,
      "source": [
        "from classifiers import classifiers_auc\n",
        "classifiers_auc(X,y,2)"
      ],
      "outputs": [
        {
          "output_type": "display_data",
          "data": {
            "text/plain": [
              "0it [00:00, ?it/s]"
            ],
            "application/vnd.jupyter.widget-view+json": {
              "model_id": "b44f7f57f85646c1a0b819b2fda63598",
              "version_minor": 0,
              "version_major": 2
            }
          },
          "metadata": {}
        },
        {
          "output_type": "stream",
          "name": "stdout",
          "text": [
            "SVM  AUC:  0.8445436024371668\n",
            "Naive Bayes  AUC:  0.7703423457730388\n",
            "Logistic Regression  AUC:  0.827866717440975\n",
            "Knn  AUC:  0.779517517136329\n",
            "Gradient Boosting Trees  AUC:  0.727222581873572\n",
            "Random Forest  AUC:  0.8254044173648134\n",
            "RGF  AUC:  0.8188415841584158\n",
            "XGBoost  AUC:  0.8190079969535415\n",
            "ERT  AUC:  0.8355057121096725\n"
          ]
        }
      ],
      "metadata": {
        "colab": {
          "base_uri": "https://localhost:8080/",
          "height": 202,
          "referenced_widgets": [
            "b44f7f57f85646c1a0b819b2fda63598",
            "2a7c591146f54fdaafeaebcc553be0fe",
            "1fa30cd8cbeb48e48f9b7362a8c80ff2",
            "62f7bf0bcd2c4c7ca80993d86881a5f9",
            "d702044b49354f43b782de5f32b72826",
            "33ad2a4bad3a4110854d478db82c1a2d",
            "eb7b6769afe44542ad84aa596d755462",
            "84966c09019c43b78ef009810eda738a",
            "c4f6ec09eca141708a2d8ed30c9ee08d",
            "e2c3c0ffad1c4bb6ae02c174caf3a56c",
            "9e899ad616604372b3b7d34a9e88aaa4"
          ]
        },
        "id": "JOoVV_9yoEji",
        "outputId": "803e9653-495b-4681-a8b2-c70a716fa9c5"
      }
    },
    {
      "cell_type": "markdown",
      "source": [
        "On 2 cross validation iterations only eg. only half of the data is used for training, the model can reach 0.8445 AUC."
      ],
      "metadata": {
        "id": "pK8FmB1_3Du3"
      }
    },
    {
      "cell_type": "markdown",
      "source": [
        "### visualizing embedding model importance\n",
        "this section fits an ERT to the ensembled Transformer embeddings, and then aggregates the feature importance for each transformer model.    \n",
        "We note that gpt2-xl contains the most information about literariness of metaphors. "
      ],
      "metadata": {
        "id": "wwlv9cDXJCpQ"
      }
    },
    {
      "cell_type": "code",
      "execution_count": 97,
      "source": [
        "from utils import plot_hbar\n",
        "clf=ExtraTreesClassifier(n_estimators=1000,max_depth=15)\n",
        "clf.fit(X,y)\n",
        "print(\"ERT Fitness: \",clf.score(X,y))\n",
        "feature_importances=clf.feature_importances_\n",
        "init=0\n",
        "model_names=['bert-english-uncased-finetuned-pos','gpt2-xl','bart-large-cnn','distilbert-base-uncased-emotion']\n",
        "#aggregate feature importance for each transformer\n",
        "model_importances=[]\n",
        "for i in np.cumsum(lengths):\n",
        "  model_imp=np.sum(feature_importances[init:i])\n",
        "  model_importances.append(model_imp)\n",
        "  init=i\n",
        "plot_hbar(data)"
      ],
      "outputs": [
        {
          "output_type": "stream",
          "name": "stdout",
          "text": [
            "ERT Fitness:  1.0\n"
          ]
        },
        {
          "output_type": "display_data",
          "data": {
            "text/plain": [
              "<Figure size 576x576 with 1 Axes>"
            ],
            "image/png": "[encoded data removed]"
          },
          "metadata": {
            "needs_background": "light"
          }
        }
      ],
      "metadata": {
        "colab": {
          "base_uri": "https://localhost:8080/",
          "height": 485
        },
        "id": "E6Qz7zhXI-kF",
        "outputId": "6313928b-3189-4dbc-da6f-772526d0065a"
      }
    },
    {
      "cell_type": "markdown",
      "source": [
        "# Flair Classifier\n",
        "In this section we train a flair classifier with the gpt2-medium finetuned document embedding, we report 5 cross validation results on the dataset, and notice the surprising good performance (excellent auc .90-1) of this classifier.     "
      ],
      "metadata": {
        "id": "PND9Q1ZUTePx"
      }
    },
    {
      "cell_type": "code",
      "execution_count": null,
      "source": [
        "from flair.data_fetcher import NLPTaskDataFetcher\n",
        "from sklearn.model_selection import StratifiedKFold\n",
        "from sklearn.metrics import accuracy_score,auc,roc_auc_score\n",
        "from flair.trainers import ModelTrainer\n",
        "from flair.models import TextClassifier\n",
        "from flair.datasets import CSVClassificationCorpus\n",
        "from pathlib import Path\n",
        "import sklearn.metrics as metrics\n",
        "import os\n",
        "import matplotlib.pyplot as plt\n",
        "tprs = []\n",
        "aucs = []\n",
        "mean_fpr = np.linspace(0, 1, 100)\n",
        "\n",
        "fig, ax = plt.subplots(figsize=(8,8))\n",
        "column_name_map = {0: \"text\", 1: \"label\"}\n",
        "label_map={'0':'nonliterary','1':'literary'}\n",
        "skf = StratifiedKFold(n_splits=5)\n",
        "document_embedding=TransformerDocumentEmbeddings('./gpt2_medium_glec/')\n",
        "model_results=[]\n",
        "X=df.M.values\n",
        "y=df.label.values\n",
        "\n",
        "for train_index, test_index in tqdm(skf.split(X, y)):\n",
        "    X_train, X_test = X[train_index], X[test_index]\n",
        "    y_train, y_test = y[train_index], y[test_index]\n",
        "    tdf=pd.DataFrame({0:X_train,1:y_train.astype(str)})\n",
        "    tdf[1]=tdf[1].map(label_map)\n",
        "    tdf.to_csv('./train.csv',index=False)\n",
        "    tdf2=pd.DataFrame({0:X_test,1:y_test.astype(str)})\n",
        "    tdf2[1]=tdf2[1].map(label_map)\n",
        "\n",
        "    tdf2.to_csv('./test.csv',index=False)\n",
        "    # corpus = NLPTaskDataFetcher.load_classification_corpus(Path('./'), test_file='test.csv', train_file='train.csv')\n",
        "    corpus=CSVClassificationCorpus(Path('./'),column_name_map,label_type='class',skip_header=True)\n",
        "    classifier = TextClassifier(document_embedding,label_type='class', label_dictionary=corpus.make_label_dictionary('class'), multi_label=False)\n",
        "    trainer = ModelTrainer(classifier, corpus)\n",
        "    trainer.train('./', max_epochs=10,mini_batch_size=4,learning_rate=.01,anneal_against_dev_loss=True)\n",
        "    model_score=[]\n",
        "    for s in X_test:\n",
        "      s=Sentence(s)\n",
        "      classifier.predict(s)\n",
        "      score=(s.labels[0].score if s.labels[0].value =='literary' else 1-s.labels[0].score)\n",
        "      model_score.append(score)\n",
        "    fpr, tpr, thresholds = metrics.roc_curve(y_test, model_score)\n",
        "    interp_tpr = np.interp(mean_fpr, fpr, tpr)\n",
        "    interp_tpr[0] = 0.0\n",
        "    tprs.append(interp_tpr)\n",
        "    roc_auc=roc_auc_score(y_test,model_score)\n",
        "    model_results.append(roc_auc)\n",
        "    aucs.append(roc_auc)\n",
        "    os.remove(\"./dev.tsv\")\n",
        "    os.remove(\"./test.tsv\")\n",
        "    os.remove(\"./loss.tsv\")\n",
        "    os.remove(\"training.log\")\n",
        "    os.remove(\"final-model.pt\")\n",
        "    os.remove(\"./best-model.pt\")\n",
        "    os.remove(\"./weights.txt\")\n",
        "\n",
        "\n",
        "\n",
        "ax.plot([0, 1], [0, 1], linestyle=\"--\", lw=2, color=\"r\", label=\"Chance\", alpha=0.8)\n",
        "\n",
        "mean_tpr = np.mean(tprs, axis=0)\n",
        "mean_tpr[-1] = 1.0\n",
        "mean_auc = auc(mean_fpr, mean_tpr)\n",
        "std_auc = np.std(aucs)\n",
        "ax.plot(\n",
        "    mean_fpr,\n",
        "    mean_tpr,\n",
        "    color=\"b\",\n",
        "    label=r\"Mean ROC (AUC = %0.2f $\\pm$ %0.2f)\" % (np.mean(aucs), np.std(aucs)),\n",
        "    lw=2,\n",
        "    alpha=0.8,\n",
        ")\n",
        "\n",
        "std_tpr = np.std(tprs, axis=0)\n",
        "tprs_upper = np.minimum(mean_tpr + std_tpr, 1)\n",
        "tprs_lower = np.maximum(mean_tpr - std_tpr, 0)\n",
        "ax.fill_between(\n",
        "    mean_fpr,\n",
        "    tprs_lower,\n",
        "    tprs_upper,\n",
        "    color=\"grey\",\n",
        "    alpha=0.2,\n",
        "    label=r\"$\\pm$ 1 std. dev.\",\n",
        ")\n",
        "\n",
        "ax.set(\n",
        "    xlim=[-0.05, 1.05],\n",
        "    ylim=[-0.05, 1.05],\n",
        "    title=\"Receiver operating characteristic example\",\n",
        ")\n",
        "ax.legend(loc=\"lower right\")\n",
        "plt.show()"
      ],
      "outputs": [],
      "metadata": {
        "colab": {
          "base_uri": "https://localhost:8080/",
          "height": 1000,
          "referenced_widgets": [
            "9692036adc964ef89d87329e2bcab2a0"
          ]
        },
        "id": "50Azr_xXBWml",
        "outputId": "fdd8734f-f60a-47ba-fbf9-89db1b71504e"
      }
    },
    {
      "cell_type": "markdown",
      "source": [
        "# Word based embeddings"
      ],
      "metadata": {
        "id": "FTo0ok69OomP"
      }
    },
    {
      "cell_type": "markdown",
      "source": [
        "This section investigates word level features, the features include the word tenor vehicle relation with different embedding models, the cosine similarity between the metaphor words from different embedding models, sentiment and confidence score, ease of readness, and the gltr word statistics. \n",
        "There are 14 features in total which makes this approach explainable. "
      ],
      "metadata": {
        "id": "wXOq6S2glNNy"
      }
    },
    {
      "cell_type": "markdown",
      "source": [
        "### Featurize the dataset"
      ],
      "metadata": {
        "id": "srZWFlnqCm3a"
      }
    },
    {
      "cell_type": "code",
      "execution_count": null,
      "source": [
        "from featurize import featurize\n",
        "labels=[\n",
        "        'gltr_mean','gltr_std','gltr_max','gltr_cond_p','flair_mean','flair_std','flair_explaind_sum','conceptnet_t/v_sim','sentiment','sentiment_confidence','flescher_reading_index','ARI'\n",
        "]\n",
        "X=featurize(df)\n",
        "X1=np.array(X)\n",
        "X2=df[df.columns[4:]].values\n",
        "y=df.label.values"
      ],
      "outputs": [],
      "metadata": {
        "id": "7Dbx5iBeX9td"
      }
    },
    {
      "cell_type": "code",
      "execution_count": 9,
      "source": [
        "df_met = pd.DataFrame(data=X1, index=np.arange(X1.shape[0]), columns=labels)\n",
        "df_met['label']=y\n",
        "df_met.to_csv(\"metaphors_data.csv\")"
      ],
      "outputs": [],
      "metadata": {
        "id": "q3sntQAdVeaZ"
      }
    },
    {
      "cell_type": "markdown",
      "source": [
        "### Tabnet Benchmark using the generated features"
      ],
      "metadata": {
        "id": "TWgvGgBUCpZq"
      }
    },
    {
      "cell_type": "code",
      "execution_count": 123,
      "source": [
        "from classifiers import tabnet_auc\n",
        "results,feature_importances=tabnet_auc(X1,y,10)"
      ],
      "outputs": [
        {
          "output_type": "display_data",
          "data": {
            "text/plain": [
              "0it [00:00, ?it/s]"
            ],
            "application/vnd.jupyter.widget-view+json": {
              "model_id": "b4bc35725eb940c4a76177545dcbcaec",
              "version_minor": 0,
              "version_major": 2
            }
          },
          "metadata": {}
        },
        {
          "output_type": "stream",
          "name": "stdout",
          "text": [
            "No early stopping will be performed, last training weights will be used.\n",
            "No early stopping will be performed, last training weights will be used.\n",
            "No early stopping will be performed, last training weights will be used.\n",
            "No early stopping will be performed, last training weights will be used.\n",
            "No early stopping will be performed, last training weights will be used.\n",
            "No early stopping will be performed, last training weights will be used.\n",
            "No early stopping will be performed, last training weights will be used.\n",
            "No early stopping will be performed, last training weights will be used.\n",
            "No early stopping will be performed, last training weights will be used.\n",
            "No early stopping will be performed, last training weights will be used.\n",
            "Tabnet AUC: 0.7206593406593407\n"
          ]
        }
      ],
      "metadata": {
        "id": "nI6jzP7NUPjE",
        "colab": {
          "base_uri": "https://localhost:8080/",
          "height": 236,
          "referenced_widgets": [
            "b4bc35725eb940c4a76177545dcbcaec",
            "fa7824ee3ab0405c8e17929d37b0a16b",
            "858e5fae0af44302b17dd4eb60ea5be0",
            "2c92f8cc70a047aca44f09b3e27a55ef",
            "f15edaccea78423eac1ede72306abca0",
            "8bf96630a084483d911824b527cb9f68",
            "ccf3085df0f84d438b1cc1a5ee0b0417",
            "c35a4c41d82f4d70a8ee7ee83cfc608e",
            "adc5a5abdf0c44a0ad4106a5e97d1262",
            "627f033bb55541938ef98ead724b8996",
            "80d0c5749c3e41299b4ad18f1d74fd72"
          ]
        },
        "outputId": "cdd3539f-b7c2-430c-b069-9287d7ae58e2"
      }
    },
    {
      "cell_type": "code",
      "execution_count": 124,
      "source": [
        "data = {k:v for k,v in zip(labels,feature_importances)}\n",
        "plot_hbar(data)"
      ],
      "outputs": [
        {
          "output_type": "display_data",
          "data": {
            "text/plain": [
              "<Figure size 576x576 with 1 Axes>"
            ],
            "image/png": "[encoded data removed]"
          },
          "metadata": {
            "needs_background": "light"
          }
        }
      ],
      "metadata": {
        "colab": {
          "base_uri": "https://localhost:8080/",
          "height": 468
        },
        "id": "XNInQ3UT_K9d",
        "outputId": "0f2973e1-f7e7-4f6a-80a3-0558fc3fcf67"
      }
    },
    {
      "cell_type": "markdown",
      "source": [
        "### Benchmarking different machine learning models"
      ],
      "metadata": {
        "id": "51vP7TZsCtk0"
      }
    },
    {
      "cell_type": "code",
      "execution_count": 106,
      "source": [
        "from classifiers import classifiers_auc\n",
        "classifiers_auc(X1,y)"
      ],
      "outputs": [
        {
          "output_type": "display_data",
          "data": {
            "text/plain": [
              "0it [00:00, ?it/s]"
            ],
            "application/vnd.jupyter.widget-view+json": {
              "model_id": "4d3bf43208fd43e68011449a354747c9",
              "version_minor": 0,
              "version_major": 2
            }
          },
          "metadata": {}
        },
        {
          "output_type": "stream",
          "name": "stdout",
          "text": [
            "SVM  AUC:  0.7308516483516483\n",
            "Naive Bayes  AUC:  0.7314102564102565\n",
            "Logistic Regression  AUC:  0.7448260073260075\n",
            "Knn  AUC:  0.6600412087912089\n",
            "Gradient Boosting Trees  AUC:  0.655746336996337\n",
            "Random Forest  AUC:  0.7013827838827839\n",
            "RGF  AUC:  0.6712179487179488\n",
            "XGBoost  AUC:  0.6659432234432234\n",
            "ERT  AUC:  0.7159157509157509\n"
          ]
        }
      ],
      "metadata": {
        "colab": {
          "base_uri": "https://localhost:8080/",
          "height": 202,
          "referenced_widgets": [
            "4d3bf43208fd43e68011449a354747c9",
            "cdaeec99b8f248bb9a182d406b6a2535",
            "a4b0a81e7bfa48659289932fddb883fd",
            "af3d455709cf4a8a9aa33f19d3858126",
            "26242e1bb10c46b0911c93c4d5bec937",
            "8e4e96cb7e984cf2be21b4e9bae0ac77",
            "43a10aef334f48a08c7005a379345b80",
            "8232b11bdfda46418ea6e33a51c04109",
            "9e9d08cf47d348708b1e7d7ddec6962f",
            "245b192ad00a4eff9298510383a8310d",
            "ef2a00e5f13f4f048f236aa571dc1f73"
          ]
        },
        "id": "-xkNuFn-vkQU",
        "outputId": "5d9a92c8-2e45-40a3-f7c7-ed1969d5a9ea"
      }
    },
    {
      "cell_type": "markdown",
      "source": [
        "# Visualizing Feature importances and effects for ERT and LogisticRegression classifiers"
      ],
      "metadata": {
        "id": "trew64KLkLh8"
      }
    },
    {
      "cell_type": "markdown",
      "source": [
        "Since ERT and Logisitic regression are the best performers , we will analyze their prediction and the feature impact on the models predictions"
      ],
      "metadata": {
        "id": "ReUk1nmhCzOB"
      }
    },
    {
      "cell_type": "code",
      "execution_count": 109,
      "source": [
        "scl=StandardScaler()\n",
        "X=scl.fit_transform(X1)\n",
        "clf=ExtraTreesClassifier(n_estimators=1000,max_depth=6).fit(X,y)\n",
        "data = {k:v for k,v in zip(df_met.columns[:-1],clf.feature_importances_)}\n",
        "plot_hbar(data)"
      ],
      "outputs": [
        {
          "output_type": "display_data",
          "data": {
            "text/plain": [
              "<Figure size 576x576 with 1 Axes>"
            ],
            "image/png": "[encoded data removed]"
          },
          "metadata": {
            "needs_background": "light"
          }
        }
      ],
      "metadata": {
        "colab": {
          "base_uri": "https://localhost:8080/",
          "height": 468
        },
        "id": "hxu2ZH--rTzo",
        "outputId": "48c9167a-5d6b-443f-817e-9dd54c0e043d"
      }
    },
    {
      "cell_type": "markdown",
      "source": [
        "#### LogisticRegression Feature Impact"
      ],
      "metadata": {
        "id": "NzNiqX83xVAO"
      }
    },
    {
      "cell_type": "code",
      "execution_count": 115,
      "source": [
        "scl=StandardScaler()\n",
        "X=scl.fit_transform(X1)\n",
        "clf=LogisticRegressionCV().fit(X,y)\n",
        "explainer = shap.LinearExplainer(clf, X)\n",
        "shap_values = explainer.shap_values(X)\n",
        "shap.summary_plot(shap_values, X, feature_names=df_met.columns[:-1])\n"
      ],
      "outputs": [
        {
          "output_type": "display_data",
          "data": {
            "text/plain": [
              "<Figure size 576x453.6 with 2 Axes>"
            ],
            "image/png": "[encoded data removed]"
          },
          "metadata": {
            "needs_background": "light"
          }
        }
      ],
      "metadata": {
        "colab": {
          "base_uri": "https://localhost:8080/",
          "height": 411
        },
        "id": "Sau2maV3-90K",
        "outputId": "a0c4e99e-68d6-4d41-c3ed-cfb730c32dd5"
      }
    },
    {
      "cell_type": "markdown",
      "source": [
        "### Insights:\n",
        "1- Flescher reading index is informative for literary metaphors detection, literary metaphors tend to be less confusing.   \n",
        "2- Literary metaphors tend to have greater mean embedding distance, which means they spann wider concepts.  \n",
        "3- Literary metaphors tend to be more surprising for a transformer model "
      ],
      "metadata": {
        "id": "yotZrBEwyqCL"
      }
    },
    {
      "cell_type": "markdown",
      "source": [
        "# Regression Tasks\n",
        "The 14 features seem to only somewhat work for SRL, MGD, ALT and MET ratings only."
      ],
      "metadata": {
        "id": "ineUlCKYMJ-k"
      }
    },
    {
      "cell_type": "code",
      "execution_count": 127,
      "source": [
        "columns=[\"CMP\",\"ESI\",\"MET\",\"MGD\",\"SRL\",\"MIM\",\"IMS\",\"IMP\",\"FAM\",\"ALT\"]\n",
        "from sklearn.model_selection import StratifiedKFold\n",
        "from sklearn.ensemble import GradientBoostingRegressor,RandomForestRegressor\n",
        "from sklearn.naive_bayes import GaussianNB\n",
        "from sklearn.neighbors import KNeighborsRegressor\n",
        "from sklearn.linear_model import LogisticRegressionCV\n",
        "from sklearn.preprocessing import StandardScaler\n",
        "from sklearn.model_selection import StratifiedKFold,KFold\n",
        "from sklearn.metrics import accuracy_score,auc,roc_auc_score,mean_absolute_error\n",
        "from sklearn.svm import SVR\n",
        "from xgboost import XGBRegressor\n",
        "from sklearn.ensemble import ExtraTreesRegressor\n",
        "from sklearn.neural_network import MLPRegressor\n",
        "from sklearn.linear_model import RidgeCV,LinearRegression\n",
        "for col in columns:\n",
        "  y=df[col].values\n",
        "  skf = KFold(n_splits=10)\n",
        "\n",
        "  models=[\n",
        "          (\"SVM\",SVR(kernel='rbf')),\n",
        "          (\"LinearRegression\",LinearRegression()),\n",
        "          (\"Ridge\",RidgeCV()),\n",
        "          ('Knn',KNeighborsRegressor(n_neighbors=3)), \n",
        "          (\"ERT\",ExtraTreesRegressor(n_estimators=1000,max_depth=9)),\n",
        "          ]\n",
        "  model_results={k[0]:[] for k in models}\n",
        "\n",
        "  for train_index, test_index in tqdm(skf.split(X1, y)):\n",
        "      X_train, X_test = X1[train_index], X1[test_index]\n",
        "      y_train, y_test = y[train_index], y[test_index]\n",
        "      scl=StandardScaler()\n",
        "      X_train=scl.fit_transform(X_train)\n",
        "      X_test=scl.transform(X_test)\n",
        "      for m in models:\n",
        "        m[1].fit(X_train,y_train)\n",
        "        model_results[m[0]].append(mean_absolute_error(y_test,m[1].predict(X_test)))\n",
        "  print(\"Predicting: \",col)\n",
        "  for label,res in model_results.items():\n",
        "    print(label,' mean absolute error: ',np.mean(res))"
      ],
      "outputs": [
        {
          "output_type": "display_data",
          "data": {
            "text/plain": [
              "0it [00:00, ?it/s]"
            ],
            "application/vnd.jupyter.widget-view+json": {
              "model_id": "1f0368c2cd8c44ff9d9bddc7570aadd4",
              "version_minor": 0,
              "version_major": 2
            }
          },
          "metadata": {}
        },
        {
          "output_type": "stream",
          "name": "stdout",
          "text": [
            "Predicting:  CMP\n",
            "SVM  mean absolute error:  0.8760519076909915\n",
            "LinearRegression  mean absolute error:  0.8593076528803165\n",
            "Ridge  mean absolute error:  0.8586004601175136\n",
            "Knn  mean absolute error:  0.9749725562750541\n",
            "ERT  mean absolute error:  0.8598210422979322\n"
          ]
        },
        {
          "output_type": "display_data",
          "data": {
            "text/plain": [
              "0it [00:00, ?it/s]"
            ],
            "application/vnd.jupyter.widget-view+json": {
              "model_id": "cd96a814744f492ea18ab619b35b4610",
              "version_minor": 0,
              "version_major": 2
            }
          },
          "metadata": {}
        },
        {
          "output_type": "stream",
          "name": "stdout",
          "text": [
            "Predicting:  ESI\n",
            "SVM  mean absolute error:  0.9174552994923971\n",
            "LinearRegression  mean absolute error:  0.9092473814030594\n",
            "Ridge  mean absolute error:  0.9071132320692362\n",
            "Knn  mean absolute error:  1.0229686401480111\n",
            "ERT  mean absolute error:  0.9092370413717304\n"
          ]
        },
        {
          "output_type": "display_data",
          "data": {
            "text/plain": [
              "0it [00:00, ?it/s]"
            ],
            "application/vnd.jupyter.widget-view+json": {
              "model_id": "fdaf97fefba84b4683602aaa07512298",
              "version_minor": 0,
              "version_major": 2
            }
          },
          "metadata": {}
        },
        {
          "output_type": "stream",
          "name": "stdout",
          "text": [
            "Predicting:  MET\n",
            "SVM  mean absolute error:  0.45604440398371027\n",
            "LinearRegression  mean absolute error:  0.4476050471654592\n",
            "Ridge  mean absolute error:  0.44658939974801626\n",
            "Knn  mean absolute error:  0.5045921214924453\n",
            "ERT  mean absolute error:  0.4687264176249961\n"
          ]
        },
        {
          "output_type": "display_data",
          "data": {
            "text/plain": [
              "0it [00:00, ?it/s]"
            ],
            "application/vnd.jupyter.widget-view+json": {
              "model_id": "7d32b7a4d9ba4effa755943d595efd9f",
              "version_minor": 0,
              "version_major": 2
            }
          },
          "metadata": {}
        },
        {
          "output_type": "stream",
          "name": "stdout",
          "text": [
            "Predicting:  MGD\n",
            "SVM  mean absolute error:  0.690532582256475\n",
            "LinearRegression  mean absolute error:  0.6707267585655978\n",
            "Ridge  mean absolute error:  0.6704964522317349\n",
            "Knn  mean absolute error:  0.7730208140610546\n",
            "ERT  mean absolute error:  0.7005352443539816\n"
          ]
        },
        {
          "output_type": "display_data",
          "data": {
            "text/plain": [
              "0it [00:00, ?it/s]"
            ],
            "application/vnd.jupyter.widget-view+json": {
              "model_id": "dbe9e4db939c47cab4724c1dfb6cde3d",
              "version_minor": 0,
              "version_major": 2
            }
          },
          "metadata": {}
        },
        {
          "output_type": "stream",
          "name": "stdout",
          "text": [
            "Predicting:  SRL\n",
            "SVM  mean absolute error:  0.8966810376160925\n",
            "LinearRegression  mean absolute error:  0.8737768887836974\n",
            "Ridge  mean absolute error:  0.8710959398990011\n",
            "Knn  mean absolute error:  0.9986888683317916\n",
            "ERT  mean absolute error:  0.8925133667873798\n"
          ]
        },
        {
          "output_type": "display_data",
          "data": {
            "text/plain": [
              "0it [00:00, ?it/s]"
            ],
            "application/vnd.jupyter.widget-view+json": {
              "model_id": "fcbee839e4de4e7691c63d2349e09281",
              "version_minor": 0,
              "version_major": 2
            }
          },
          "metadata": {}
        },
        {
          "output_type": "stream",
          "name": "stdout",
          "text": [
            "Predicting:  MIM\n",
            "SVM  mean absolute error:  0.8306962205988295\n",
            "LinearRegression  mean absolute error:  0.8128295292587658\n",
            "Ridge  mean absolute error:  0.8090713725223744\n",
            "Knn  mean absolute error:  0.941632439099599\n",
            "ERT  mean absolute error:  0.8392462764600358\n"
          ]
        },
        {
          "output_type": "display_data",
          "data": {
            "text/plain": [
              "0it [00:00, ?it/s]"
            ],
            "application/vnd.jupyter.widget-view+json": {
              "model_id": "b080b125824448b5bcf005b26a2a9afc",
              "version_minor": 0,
              "version_major": 2
            }
          },
          "metadata": {}
        },
        {
          "output_type": "stream",
          "name": "stdout",
          "text": [
            "Predicting:  IMS\n",
            "SVM  mean absolute error:  0.74051853219292\n",
            "LinearRegression  mean absolute error:  0.7231870505374418\n",
            "Ridge  mean absolute error:  0.7229910988361212\n",
            "Knn  mean absolute error:  0.8441836262719704\n",
            "ERT  mean absolute error:  0.7354385649661515\n"
          ]
        },
        {
          "output_type": "display_data",
          "data": {
            "text/plain": [
              "0it [00:00, ?it/s]"
            ],
            "application/vnd.jupyter.widget-view+json": {
              "model_id": "3d499b5fa48a440791f0d7da93f18d77",
              "version_minor": 0,
              "version_major": 2
            }
          },
          "metadata": {}
        },
        {
          "output_type": "stream",
          "name": "stdout",
          "text": [
            "Predicting:  IMP\n",
            "SVM  mean absolute error:  0.7478329246154323\n",
            "LinearRegression  mean absolute error:  0.7524053306200915\n",
            "Ridge  mean absolute error:  0.7490914519407184\n",
            "Knn  mean absolute error:  0.8777718162195498\n",
            "ERT  mean absolute error:  0.7723559992839392\n"
          ]
        },
        {
          "output_type": "display_data",
          "data": {
            "text/plain": [
              "0it [00:00, ?it/s]"
            ],
            "application/vnd.jupyter.widget-view+json": {
              "model_id": "fea3555f5d89410db68f8c5ae3c5dc5c",
              "version_minor": 0,
              "version_major": 2
            }
          },
          "metadata": {}
        },
        {
          "output_type": "stream",
          "name": "stdout",
          "text": [
            "Predicting:  FAM\n",
            "SVM  mean absolute error:  0.8438617123250044\n",
            "LinearRegression  mean absolute error:  0.8502088751931847\n",
            "Ridge  mean absolute error:  0.848334519852364\n",
            "Knn  mean absolute error:  0.953003854455751\n",
            "ERT  mean absolute error:  0.8537193660930906\n"
          ]
        },
        {
          "output_type": "display_data",
          "data": {
            "text/plain": [
              "0it [00:00, ?it/s]"
            ],
            "application/vnd.jupyter.widget-view+json": {
              "model_id": "2abd70208f5b437398de57a99ef70c5c",
              "version_minor": 0,
              "version_major": 2
            }
          },
          "metadata": {}
        },
        {
          "output_type": "stream",
          "name": "stdout",
          "text": [
            "Predicting:  ALT\n",
            "SVM  mean absolute error:  0.27102605948278774\n",
            "LinearRegression  mean absolute error:  0.26917446432604575\n",
            "Ridge  mean absolute error:  0.26798197077935615\n",
            "Knn  mean absolute error:  0.299472864631514\n",
            "ERT  mean absolute error:  0.27111298001173917\n"
          ]
        }
      ],
      "metadata": {
        "colab": {
          "base_uri": "https://localhost:8080/",
          "height": 1000,
          "referenced_widgets": [
            "1f0368c2cd8c44ff9d9bddc7570aadd4",
            "d5b21102b48f42dd8553d9697d7e2deb",
            "96c53f8df56f42ad936f4a6ae5c68466",
            "61d593fe63104552a296e9932bac5cc5",
            "c4eee7b6ad334924b56fdef65693fe84",
            "64b6880e3ed840f0ad6b37e3451549ea",
            "e1a03fda9c00498f89bda6a52a0f3947",
            "e20dcdf6cf414d78ab46298c49607b1d",
            "0f3e964939de40e78b3cda675ce247af",
            "9a33c756bbd843bda66d0da154fedc1b",
            "8a7f1ae76bc347a8ad70efbc5044c1fd"
          ]
        },
        "id": "WVK2MByRMI8P",
        "outputId": "6e7dfeec-57da-42d8-9985-0bdafb71d075"
      }
    }
  ]
}